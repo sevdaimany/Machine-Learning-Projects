{
 "cells": [
  {
   "cell_type": "markdown",
   "metadata": {},
   "source": [
    "# Import what we need\n",
    "### matplotlib inline"
   ]
  },
  {
   "cell_type": "code",
   "execution_count": 1,
   "metadata": {},
   "outputs": [],
   "source": [
    "import tensorflow as tf\n",
    "import numpy as np\n",
    "import pandas as pd\n",
    "import matplotlib.pyplot as plt"
   ]
  },
  {
   "cell_type": "markdown",
   "metadata": {},
   "source": [
    "# Load MNIST Dataset"
   ]
  },
  {
   "cell_type": "code",
   "execution_count": 2,
   "metadata": {},
   "outputs": [],
   "source": [
    "(train_val_data, train_val_labels), (test_data, test_labels) = tf.keras.datasets.mnist.load_data()"
   ]
  },
  {
   "cell_type": "markdown",
   "metadata": {},
   "source": [
    "### check shapes and types"
   ]
  },
  {
   "cell_type": "code",
   "execution_count": 3,
   "metadata": {},
   "outputs": [
    {
     "data": {
      "text/plain": [
       "((60000, 28, 28), dtype('uint8'), 0, 255)"
      ]
     },
     "execution_count": 3,
     "metadata": {},
     "output_type": "execute_result"
    }
   ],
   "source": [
    "train_val_data.shape, train_val_data.dtype, train_val_data.min(), train_val_data.max()"
   ]
  },
  {
   "cell_type": "code",
   "execution_count": 4,
   "metadata": {},
   "outputs": [
    {
     "data": {
      "text/plain": [
       "((60000,), dtype('uint8'), 0, 9)"
      ]
     },
     "execution_count": 4,
     "metadata": {},
     "output_type": "execute_result"
    }
   ],
   "source": [
    "train_val_labels.shape, train_val_labels.dtype, train_val_labels.min(), train_val_labels.max()"
   ]
  },
  {
   "cell_type": "markdown",
   "metadata": {},
   "source": [
    "### check shapes and types of test data"
   ]
  },
  {
   "cell_type": "code",
   "execution_count": 5,
   "metadata": {},
   "outputs": [
    {
     "data": {
      "text/plain": [
       "((10000, 28, 28), dtype('uint8'), 0, 255)"
      ]
     },
     "execution_count": 5,
     "metadata": {},
     "output_type": "execute_result"
    }
   ],
   "source": [
    "test_data.shape, test_data.dtype, test_data.min(), test_data.max()"
   ]
  },
  {
   "cell_type": "markdown",
   "metadata": {},
   "source": [
    "### now lets plot some images"
   ]
  },
  {
   "cell_type": "code",
   "execution_count": 6,
   "metadata": {},
   "outputs": [
    {
     "data": {
      "text/plain": [
       "<matplotlib.image.AxesImage at 0x265e7292a08>"
      ]
     },
     "execution_count": 6,
     "metadata": {},
     "output_type": "execute_result"
    },
    {
     "data": {
      "image/png": "[encoded data removed]",
      "text/plain": [
       "<Figure size 432x288 with 1 Axes>"
      ]
     },
     "metadata": {
      "needs_background": "light"
     },
     "output_type": "display_data"
    }
   ],
   "source": [
    "plt.imshow(train_val_data[1])"
   ]
  },
  {
   "cell_type": "code",
   "execution_count": 7,
   "metadata": {},
   "outputs": [
    {
     "data": {
      "text/plain": [
       "0"
      ]
     },
     "execution_count": 7,
     "metadata": {},
     "output_type": "execute_result"
    }
   ],
   "source": [
    "train_val_labels[1]"
   ]
  },
  {
   "cell_type": "markdown",
   "metadata": {},
   "source": [
    "# Reshape train and test data"
   ]
  },
  {
   "cell_type": "code",
   "execution_count": 8,
   "metadata": {},
   "outputs": [],
   "source": [
    "train_val_data = np.reshape(train_val_data, (-1, 28 * 28))\n",
    "test_data = np.reshape(test_data, (-1, 28 * 28))"
   ]
  },
  {
   "cell_type": "code",
   "execution_count": 9,
   "metadata": {},
   "outputs": [
    {
     "data": {
      "text/plain": [
       "((60000, 784), (10000, 784))"
      ]
     },
     "execution_count": 9,
     "metadata": {},
     "output_type": "execute_result"
    }
   ],
   "source": [
    "train_val_data.shape, test_data.shape"
   ]
  },
  {
   "cell_type": "markdown",
   "metadata": {},
   "source": [
    "# Convert labels to one-hot encoding\n",
    "### essential for classification - use to_categorical"
   ]
  },
  {
   "cell_type": "code",
   "execution_count": 10,
   "metadata": {},
   "outputs": [],
   "source": [
    "# 0 - 9\n",
    "# 4 -> [0, 0, 0, 0, 1, 0, 0, 0, 0, 0]\n",
    "# 5 -> [0, 0, 0, 0, 0, 1, 0, 0, 0, 0]\n",
    "# 0 -> [1, 0, 0, 0, 0, 0, 0, 0, 0, 0]\n",
    "# one-hot"
   ]
  },
  {
   "cell_type": "code",
   "execution_count": 11,
   "metadata": {},
   "outputs": [],
   "source": [
    "from tensorflow.keras.utils import to_categorical"
   ]
  },
  {
   "cell_type": "code",
   "execution_count": 12,
   "metadata": {},
   "outputs": [],
   "source": [
    "train_val_labels = to_categorical(train_val_labels, num_classes=10)\n",
    "test_labels = to_categorical(test_labels, num_classes=10)"
   ]
  },
  {
   "cell_type": "markdown",
   "metadata": {},
   "source": [
    "### now see new one-hot labels"
   ]
  },
  {
   "cell_type": "code",
   "execution_count": 13,
   "metadata": {},
   "outputs": [
    {
     "data": {
      "text/plain": [
       "array([0., 0., 0., 0., 0., 1., 0., 0., 0., 0.], dtype=float32)"
      ]
     },
     "execution_count": 13,
     "metadata": {},
     "output_type": "execute_result"
    }
   ],
   "source": [
    "train_val_labels[0]"
   ]
  },
  {
   "cell_type": "code",
   "execution_count": 56,
   "metadata": {},
   "outputs": [
    {
     "data": {
      "text/plain": [
       "5"
      ]
     },
     "execution_count": 56,
     "metadata": {},
     "output_type": "execute_result"
    }
   ],
   "source": [
    "tf.argmax(train_val_labels[0]).numpy()"
   ]
  },
  {
   "cell_type": "code",
   "execution_count": 14,
   "metadata": {},
   "outputs": [
    {
     "data": {
      "text/plain": [
       "array([1., 0., 0., 0., 0., 0., 0., 0., 0., 0.], dtype=float32)"
      ]
     },
     "execution_count": 14,
     "metadata": {},
     "output_type": "execute_result"
    }
   ],
   "source": [
    "train_val_labels[1]"
   ]
  },
  {
   "cell_type": "markdown",
   "metadata": {},
   "source": [
    "## Convert test labels as well"
   ]
  },
  {
   "cell_type": "code",
   "execution_count": null,
   "metadata": {},
   "outputs": [],
   "source": []
  },
  {
   "cell_type": "markdown",
   "metadata": {},
   "source": [
    "# Normalize the data\n",
    "### between 0 and 1 and float32 dtype"
   ]
  },
  {
   "cell_type": "code",
   "execution_count": 15,
   "metadata": {},
   "outputs": [],
   "source": [
    "train_val_data = train_val_data.astype(np.float32) / 255.\n",
    "test_data = test_data.astype(np.float32) / 255.\n",
    "\n",
    "# or / 127.5 - 1."
   ]
  },
  {
   "cell_type": "markdown",
   "metadata": {},
   "source": [
    "### check mean, min, max of data"
   ]
  },
  {
   "cell_type": "code",
   "execution_count": 16,
   "metadata": {},
   "outputs": [
    {
     "data": {
      "text/plain": [
       "(0.0, 1.0, 0.0, 1.0)"
      ]
     },
     "execution_count": 16,
     "metadata": {},
     "output_type": "execute_result"
    }
   ],
   "source": [
    "train_val_data.min(), train_val_data.max(), test_data.min(), test_data.max()"
   ]
  },
  {
   "cell_type": "code",
   "execution_count": 17,
   "metadata": {},
   "outputs": [
    {
     "data": {
      "text/plain": [
       "dtype('float32')"
      ]
     },
     "execution_count": 17,
     "metadata": {},
     "output_type": "execute_result"
    }
   ],
   "source": [
    "train_val_data.dtype"
   ]
  },
  {
   "cell_type": "markdown",
   "metadata": {},
   "source": [
    "## last final check of all shapes"
   ]
  },
  {
   "cell_type": "code",
   "execution_count": 18,
   "metadata": {},
   "outputs": [],
   "source": [
    "# compatible shapes with our neural network\n",
    "# normalize between 0 and 1 or -1 and +1\n",
    "# dtype = float32"
   ]
  },
  {
   "cell_type": "code",
   "execution_count": 19,
   "metadata": {},
   "outputs": [
    {
     "data": {
      "text/plain": [
       "((60000, 784), dtype('float32'))"
      ]
     },
     "execution_count": 19,
     "metadata": {},
     "output_type": "execute_result"
    }
   ],
   "source": [
    "train_val_data.shape, train_val_data.dtype"
   ]
  },
  {
   "cell_type": "code",
   "execution_count": 20,
   "metadata": {},
   "outputs": [
    {
     "data": {
      "text/plain": [
       "((10000, 784), dtype('float32'))"
      ]
     },
     "execution_count": 20,
     "metadata": {},
     "output_type": "execute_result"
    }
   ],
   "source": [
    "test_data.shape, test_data.dtype"
   ]
  },
  {
   "cell_type": "code",
   "execution_count": 21,
   "metadata": {},
   "outputs": [
    {
     "data": {
      "text/plain": [
       "((60000, 10), dtype('float32'))"
      ]
     },
     "execution_count": 21,
     "metadata": {},
     "output_type": "execute_result"
    }
   ],
   "source": [
    "train_val_labels.shape, train_val_labels.dtype"
   ]
  },
  {
   "cell_type": "code",
   "execution_count": 22,
   "metadata": {},
   "outputs": [],
   "source": [
    "##"
   ]
  },
  {
   "cell_type": "markdown",
   "metadata": {},
   "source": [
    "## Use some portion of data if you want"
   ]
  },
  {
   "cell_type": "code",
   "execution_count": 23,
   "metadata": {},
   "outputs": [],
   "source": [
    "train_data = train_val_data[:30000]\n",
    "train_labels = train_val_labels[:30000]\n",
    "val_data = train_val_data[30000:40000]\n",
    "val_labels = train_val_labels[30000:40000]"
   ]
  },
  {
   "cell_type": "code",
   "execution_count": 24,
   "metadata": {},
   "outputs": [
    {
     "data": {
      "text/plain": [
       "((30000, 784), (10000, 784))"
      ]
     },
     "execution_count": 24,
     "metadata": {},
     "output_type": "execute_result"
    }
   ],
   "source": [
    "train_data.shape, val_data.shape"
   ]
  },
  {
   "cell_type": "markdown",
   "metadata": {},
   "source": [
    "# Create Our Classification Model"
   ]
  },
  {
   "cell_type": "markdown",
   "metadata": {},
   "source": [
    "### Import layers and models"
   ]
  },
  {
   "cell_type": "code",
   "execution_count": 128,
   "metadata": {},
   "outputs": [],
   "source": [
    "from tensorflow.keras.models import Model\n",
    "from tensorflow.keras.layers import Input, Dense, Dropout\n",
    "from tensorflow.keras.regularizers import l2"
   ]
  },
  {
   "cell_type": "markdown",
   "metadata": {},
   "source": [
    "## Create the model"
   ]
  },
  {
   "cell_type": "code",
   "execution_count": 129,
   "metadata": {},
   "outputs": [],
   "source": [
    "input_layer = Input((784, ))\n",
    "\n",
    "x = Dense(units=512, activation=\"relu\", kernel_regularizer=l2(0.001))(input_layer)\n",
    "# x = Dropout(0.2)(x)\n",
    "x = Dense(units=256, activation=\"relu\", kernel_regularizer=l2(0.001))(x)\n",
    "# x = Dropout(0.2)(x)\n",
    "x = Dense(units=128, activation=\"relu\", kernel_regularizer=l2(0.001))(x)\n",
    "# x = Dropout(0.2)(x)\n",
    "output = Dense(units=10, activation=\"sigmoid\", kernel_regularizer=l2(0.001))(x)\n",
    "\n",
    "classification_model = Model(input_layer, output)"
   ]
  },
  {
   "cell_type": "markdown",
   "metadata": {},
   "source": [
    "### print summary of the model"
   ]
  },
  {
   "cell_type": "code",
   "execution_count": 130,
   "metadata": {},
   "outputs": [
    {
     "name": "stdout",
     "output_type": "stream",
     "text": [
      "Model: \"functional_25\"\n",
      "_________________________________________________________________\n",
      "Layer (type)                 Output Shape              Param #   \n",
      "=================================================================\n",
      "input_13 (InputLayer)        [(None, 784)]             0         \n",
      "_________________________________________________________________\n",
      "dense_48 (Dense)             (None, 512)               401920    \n",
      "_________________________________________________________________\n",
      "dense_49 (Dense)             (None, 256)               131328    \n",
      "_________________________________________________________________\n",
      "dense_50 (Dense)             (None, 128)               32896     \n",
      "_________________________________________________________________\n",
      "dense_51 (Dense)             (None, 10)                1290      \n",
      "=================================================================\n",
      "Total params: 567,434\n",
      "Trainable params: 567,434\n",
      "Non-trainable params: 0\n",
      "_________________________________________________________________\n"
     ]
    }
   ],
   "source": [
    "classification_model.summary()"
   ]
  },
  {
   "cell_type": "markdown",
   "metadata": {},
   "source": [
    "# Compile the model\n",
    "## With optimizer and loss function\n",
    "## This time we use another metric as well"
   ]
  },
  {
   "cell_type": "code",
   "execution_count": 131,
   "metadata": {},
   "outputs": [],
   "source": [
    "from tensorflow.keras.losses import categorical_crossentropy\n",
    "from tensorflow.keras.optimizers import SGD"
   ]
  },
  {
   "cell_type": "code",
   "execution_count": 132,
   "metadata": {},
   "outputs": [],
   "source": [
    "classification_model.compile(optimizer=SGD(learning_rate=0.01, momentum=0.9),\n",
    "                             loss=\"categorical_crossentropy\", metrics=[\"accuracy\"])"
   ]
  },
  {
   "cell_type": "markdown",
   "metadata": {},
   "source": [
    "## Now we can train the model"
   ]
  },
  {
   "cell_type": "code",
   "execution_count": 133,
   "metadata": {},
   "outputs": [],
   "source": [
    "early_stop = tf.keras.callbacks.EarlyStopping(monitor=\"val_accuracy\", patience=10, restore_best_weights=True, mode=\"max\")"
   ]
  },
  {
   "cell_type": "code",
   "execution_count": 134,
   "metadata": {},
   "outputs": [
    {
     "name": "stdout",
     "output_type": "stream",
     "text": [
      "Epoch 1/40\n",
      "469/469 [==============================] - 2s 5ms/step - loss: 1.6530 - accuracy: 0.8381 - val_loss: 1.2722 - val_accuracy: 0.9257\n",
      "Epoch 2/40\n",
      "469/469 [==============================] - 2s 4ms/step - loss: 1.1363 - accuracy: 0.9410 - val_loss: 1.0513 - val_accuracy: 0.9438\n",
      "Epoch 3/40\n",
      "469/469 [==============================] - 2s 4ms/step - loss: 0.9480 - accuracy: 0.9592 - val_loss: 0.9006 - val_accuracy: 0.9557\n",
      "Epoch 4/40\n",
      "469/469 [==============================] - 2s 4ms/step - loss: 0.8095 - accuracy: 0.9679 - val_loss: 0.7876 - val_accuracy: 0.9601\n",
      "Epoch 5/40\n",
      "469/469 [==============================] - 2s 4ms/step - loss: 0.6951 - accuracy: 0.9749 - val_loss: 0.6817 - val_accuracy: 0.9656\n",
      "Epoch 6/40\n",
      "469/469 [==============================] - 2s 4ms/step - loss: 0.6070 - accuracy: 0.9780 - val_loss: 0.6216 - val_accuracy: 0.9616\n",
      "Epoch 7/40\n",
      "469/469 [==============================] - 2s 4ms/step - loss: 0.5336 - accuracy: 0.9805 - val_loss: 0.5515 - val_accuracy: 0.9653\n",
      "Epoch 8/40\n",
      "469/469 [==============================] - 2s 4ms/step - loss: 0.4729 - accuracy: 0.9832 - val_loss: 0.4948 - val_accuracy: 0.9678\n",
      "Epoch 9/40\n",
      "469/469 [==============================] - 2s 5ms/step - loss: 0.4222 - accuracy: 0.9844 - val_loss: 0.4452 - val_accuracy: 0.9696\n",
      "Epoch 10/40\n",
      "469/469 [==============================] - 2s 5ms/step - loss: 0.3831 - accuracy: 0.9854 - val_loss: 0.4151 - val_accuracy: 0.9688\n",
      "Epoch 11/40\n",
      "469/469 [==============================] - 2s 5ms/step - loss: 0.3507 - accuracy: 0.9856 - val_loss: 0.3851 - val_accuracy: 0.9705\n",
      "Epoch 12/40\n",
      "469/469 [==============================] - 2s 5ms/step - loss: 0.3203 - accuracy: 0.9879 - val_loss: 0.3615 - val_accuracy: 0.9685\n",
      "Epoch 13/40\n",
      "469/469 [==============================] - 2s 5ms/step - loss: 0.2957 - accuracy: 0.9888 - val_loss: 0.3381 - val_accuracy: 0.9707\n",
      "Epoch 14/40\n",
      "469/469 [==============================] - 2s 4ms/step - loss: 0.2745 - accuracy: 0.9903 - val_loss: 0.3164 - val_accuracy: 0.9717\n",
      "Epoch 15/40\n",
      "469/469 [==============================] - 2s 5ms/step - loss: 0.2607 - accuracy: 0.9900 - val_loss: 0.3115 - val_accuracy: 0.9698\n",
      "Epoch 16/40\n",
      "469/469 [==============================] - 2s 4ms/step - loss: 0.2464 - accuracy: 0.9898 - val_loss: 0.3089 - val_accuracy: 0.9679\n",
      "Epoch 17/40\n",
      "469/469 [==============================] - 2s 5ms/step - loss: 0.2326 - accuracy: 0.9915 - val_loss: 0.2843 - val_accuracy: 0.9714\n",
      "Epoch 18/40\n",
      "469/469 [==============================] - 2s 5ms/step - loss: 0.2266 - accuracy: 0.9897 - val_loss: 0.2837 - val_accuracy: 0.9687\n",
      "Epoch 19/40\n",
      "469/469 [==============================] - 2s 5ms/step - loss: 0.2161 - accuracy: 0.9913 - val_loss: 0.2695 - val_accuracy: 0.9708\n",
      "Epoch 20/40\n",
      "469/469 [==============================] - 2s 5ms/step - loss: 0.2106 - accuracy: 0.9911 - val_loss: 0.2633 - val_accuracy: 0.9720\n",
      "Epoch 21/40\n",
      "469/469 [==============================] - 2s 5ms/step - loss: 0.2031 - accuracy: 0.9919 - val_loss: 0.2593 - val_accuracy: 0.9699\n",
      "Epoch 22/40\n",
      "469/469 [==============================] - 2s 5ms/step - loss: 0.2007 - accuracy: 0.9910 - val_loss: 0.2529 - val_accuracy: 0.9727\n",
      "Epoch 23/40\n",
      "469/469 [==============================] - 2s 4ms/step - loss: 0.1953 - accuracy: 0.9921 - val_loss: 0.2480 - val_accuracy: 0.9732\n",
      "Epoch 24/40\n",
      "469/469 [==============================] - 2s 4ms/step - loss: 0.1911 - accuracy: 0.9922 - val_loss: 0.2440 - val_accuracy: 0.9743\n",
      "Epoch 25/40\n",
      "469/469 [==============================] - 2s 5ms/step - loss: 0.1887 - accuracy: 0.9923 - val_loss: 0.2421 - val_accuracy: 0.9719\n",
      "Epoch 26/40\n",
      "469/469 [==============================] - 2s 4ms/step - loss: 0.1841 - accuracy: 0.9937 - val_loss: 0.2524 - val_accuracy: 0.9697\n",
      "Epoch 27/40\n",
      "469/469 [==============================] - 2s 4ms/step - loss: 0.1824 - accuracy: 0.9934 - val_loss: 0.2367 - val_accuracy: 0.9737\n",
      "Epoch 28/40\n",
      "469/469 [==============================] - 2s 4ms/step - loss: 0.1819 - accuracy: 0.9926 - val_loss: 0.2531 - val_accuracy: 0.9690\n",
      "Epoch 29/40\n",
      "469/469 [==============================] - 2s 4ms/step - loss: 0.1827 - accuracy: 0.9919 - val_loss: 0.2401 - val_accuracy: 0.9708\n",
      "Epoch 30/40\n",
      "469/469 [==============================] - 2s 4ms/step - loss: 0.1788 - accuracy: 0.9933 - val_loss: 0.2432 - val_accuracy: 0.9697\n",
      "Epoch 31/40\n",
      "469/469 [==============================] - 2s 4ms/step - loss: 0.1807 - accuracy: 0.9919 - val_loss: 0.2348 - val_accuracy: 0.9722\n",
      "Epoch 32/40\n",
      "469/469 [==============================] - 2s 4ms/step - loss: 0.1769 - accuracy: 0.9927 - val_loss: 0.2369 - val_accuracy: 0.9713\n",
      "Epoch 33/40\n",
      "469/469 [==============================] - 2s 4ms/step - loss: 0.1777 - accuracy: 0.9916 - val_loss: 0.2386 - val_accuracy: 0.9734\n",
      "Epoch 34/40\n",
      "469/469 [==============================] - 2s 4ms/step - loss: 0.1759 - accuracy: 0.9925 - val_loss: 0.2280 - val_accuracy: 0.9744\n",
      "Epoch 35/40\n",
      "469/469 [==============================] - 2s 5ms/step - loss: 0.1733 - accuracy: 0.9935 - val_loss: 0.2330 - val_accuracy: 0.9729\n",
      "Epoch 36/40\n",
      "469/469 [==============================] - 2s 5ms/step - loss: 0.1744 - accuracy: 0.9929 - val_loss: 0.2367 - val_accuracy: 0.9700\n",
      "Epoch 37/40\n",
      "469/469 [==============================] - 2s 4ms/step - loss: 0.1728 - accuracy: 0.9935 - val_loss: 0.2267 - val_accuracy: 0.9735\n",
      "Epoch 38/40\n",
      "469/469 [==============================] - 2s 4ms/step - loss: 0.1718 - accuracy: 0.9936 - val_loss: 0.2317 - val_accuracy: 0.9727\n",
      "Epoch 39/40\n",
      "469/469 [==============================] - 2s 4ms/step - loss: 0.1726 - accuracy: 0.9933 - val_loss: 0.2247 - val_accuracy: 0.9756\n",
      "Epoch 40/40\n",
      "469/469 [==============================] - 2s 4ms/step - loss: 0.1690 - accuracy: 0.9943 - val_loss: 0.2289 - val_accuracy: 0.9729\n"
     ]
    },
    {
     "data": {
      "text/plain": [
       "<tensorflow.python.keras.callbacks.History at 0x2658b3c4048>"
      ]
     },
     "execution_count": 134,
     "metadata": {},
     "output_type": "execute_result"
    }
   ],
   "source": [
    "classification_model.fit(x=train_data, y=train_labels, batch_size=64, epochs=40,\n",
    "                         validation_data=(val_data, val_labels), callbacks=[early_stop])\n",
    "# Generalization Deep Learning"
   ]
  },
  {
   "cell_type": "markdown",
   "metadata": {},
   "source": [
    "### plot model loss history"
   ]
  },
  {
   "cell_type": "code",
   "execution_count": 111,
   "metadata": {},
   "outputs": [
    {
     "data": {
      "text/plain": [
       "<AxesSubplot:>"
      ]
     },
     "execution_count": 111,
     "metadata": {},
     "output_type": "execute_result"
    },
    {
     "data": {
      "image/png": "[encoded data removed]",
      "text/plain": [
       "<Figure size 432x288 with 1 Axes>"
      ]
     },
     "metadata": {
      "needs_background": "light"
     },
     "output_type": "display_data"
    }
   ],
   "source": [
    "history = pd.DataFrame(classification_model.history.history)\n",
    "history[['loss', 'val_loss']].plot()"
   ]
  },
  {
   "cell_type": "code",
   "execution_count": 112,
   "metadata": {},
   "outputs": [
    {
     "data": {
      "text/plain": [
       "<AxesSubplot:>"
      ]
     },
     "execution_count": 112,
     "metadata": {},
     "output_type": "execute_result"
    },
    {
     "data": {
      "image/png": "[encoded data removed]",
      "text/plain": [
       "<Figure size 432x288 with 1 Axes>"
      ]
     },
     "metadata": {
      "needs_background": "light"
     },
     "output_type": "display_data"
    }
   ],
   "source": [
    "history = pd.DataFrame(classification_model.history.history)\n",
    "history[['accuracy', 'val_accuracy']].plot()"
   ]
  },
  {
   "cell_type": "markdown",
   "metadata": {},
   "source": [
    "### max of validation accuracy"
   ]
  },
  {
   "cell_type": "code",
   "execution_count": 113,
   "metadata": {},
   "outputs": [
    {
     "data": {
      "text/plain": [
       "0.9735999703407288"
      ]
     },
     "execution_count": 113,
     "metadata": {},
     "output_type": "execute_result"
    }
   ],
   "source": [
    "np.max(history[\"val_accuracy\"])"
   ]
  },
  {
   "cell_type": "markdown",
   "metadata": {},
   "source": [
    "## Evaluate the model"
   ]
  },
  {
   "cell_type": "code",
   "execution_count": 114,
   "metadata": {},
   "outputs": [
    {
     "name": "stdout",
     "output_type": "stream",
     "text": [
      "313/313 [==============================] - 1s 2ms/step - loss: 0.1930 - accuracy: 0.9760\n"
     ]
    },
    {
     "data": {
      "text/plain": [
       "[0.19300347566604614, 0.9760000109672546]"
      ]
     },
     "execution_count": 114,
     "metadata": {},
     "output_type": "execute_result"
    }
   ],
   "source": [
    "classification_model.evaluate(test_data, test_labels, batch_size=32)"
   ]
  }
 ],
 "metadata": {
  "kernelspec": {
   "display_name": "Python 3 (ipykernel)",
   "language": "python",
   "name": "python3"
  },
  "language_info": {
   "codemirror_mode": {
    "name": "ipython",
    "version": 3
   },
   "file_extension": ".py",
   "mimetype": "text/x-python",
   "name": "python",
   "nbconvert_exporter": "python",
   "pygments_lexer": "ipython3",
   "version": "3.8.2"
  }
 },
 "nbformat": 4,
 "nbformat_minor": 4
}
